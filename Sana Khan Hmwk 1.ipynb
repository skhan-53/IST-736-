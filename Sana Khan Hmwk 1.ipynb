{
 "cells": [
  {
   "cell_type": "code",
   "execution_count": 6,
   "id": "4e04b1ca",
   "metadata": {},
   "outputs": [],
   "source": [
    "\n",
    "from sklearn.feature_extraction.text import CountVectorizer\n",
    "import pandas as pd\n",
    "import os\n",
    "\n",
    "MyList=[\"/Users/gozi/Desktop/text mining/MyCorpus/Dog1.txt\",\n",
    "        \"/Users/gozi/Desktop/text mining/MyCorpus/Dog2.txt\",\n",
    "        \"/Users/gozi/Desktop/text mining/MyCorpus/Dog3.txt\",\n",
    "        \"/Users/gozi/Desktop/text mining/MyCorpus/Coffee1.txt\",\n",
    "        \"/Users/gozi/Desktop/text mining/MyCorpus/Coffee2.txt\",\n",
    "        \"/Users/gozi/Desktop/text mining/MyCorpus/Coffee3.txt\"]\n"
   ]
  },
  {
   "cell_type": "code",
   "execution_count": 7,
   "id": "167f36ad",
   "metadata": {},
   "outputs": [
    {
     "name": "stdout",
     "output_type": "stream",
     "text": [
      "<class 'scipy.sparse._csr.csr_matrix'>\n",
      "['13' 'americano' 'breakfast' 'chemex' 'chicken' 'chips' 'coco' 'coffee'\n",
      " 'cream' 'doesn' 'dog' 'drink' 'eat' 'everyday' 'favorite' 'great' 'home'\n",
      " 'love' 'loves' 'make' 'old' 'outside' 'pourover' 'sit' 'sugar' 'sunshine'\n",
      " 'teeth' 'use' 'warm' 'way' 'weather' 'years']\n",
      "   13  americano  breakfast  chemex  chicken  chips  coco  coffee  cream  \\\n",
      "0   1          0          0       0        0      0     2       0      0   \n",
      "1   0          0          0       0        1      1     2       0      0   \n",
      "2   0          0          0       0        0      0     1       0      0   \n",
      "3   0          0          0       0        0      0     0       1      0   \n",
      "4   0          1          1       0        0      0     0       2      1   \n",
      "5   0          0          0       1        0      0     0       2      0   \n",
      "\n",
      "   doesn  ...  pourover  sit  sugar  sunshine  teeth  use  warm  way  weather  \\\n",
      "0      0  ...         0    0      0         0      0    0     0    0        0   \n",
      "1      1  ...         0    0      0         0      1    0     0    0        0   \n",
      "2      0  ...         0    1      0         1      0    0     1    0        1   \n",
      "3      0  ...         0    0      0         0      0    0     0    0        0   \n",
      "4      0  ...         0    0      1         0      0    0     0    0        0   \n",
      "5      0  ...         2    0      0         0      0    1     0    1        0   \n",
      "\n",
      "   years  \n",
      "0      1  \n",
      "1      0  \n",
      "2      0  \n",
      "3      0  \n",
      "4      0  \n",
      "5      0  \n",
      "\n",
      "[6 rows x 32 columns]\n"
     ]
    }
   ],
   "source": [
    "vectorizer = CountVectorizer(input = \"filename\", stop_words=\"english\")\n",
    "\n",
    "\n",
    "\n",
    "\n",
    "## Now - let's use fit.transform to transform the list of files                                 \n",
    "MyMat = vectorizer.fit_transform(MyList)\n",
    "print(type(MyMat))\n",
    "## Get the column names\n",
    "MyCols= vectorizer.get_feature_names_out()\n",
    "print(MyCols)\n",
    "## Create the dataframe...\n",
    "df = pd.DataFrame(MyMat.toarray(), columns=MyCols)\n",
    "print(df)\n",
    "\n",
    "\n",
    "\n"
   ]
  },
  {
   "cell_type": "code",
   "execution_count": 8,
   "id": "3a158041",
   "metadata": {},
   "outputs": [],
   "source": [
    "df.to_csv('homework1.csv')\n"
   ]
  },
  {
   "cell_type": "code",
   "execution_count": null,
   "id": "ff682b90",
   "metadata": {},
   "outputs": [],
   "source": []
  }
 ],
 "metadata": {
  "kernelspec": {
   "display_name": "Python 3 (ipykernel)",
   "language": "python",
   "name": "python3"
  },
  "language_info": {
   "codemirror_mode": {
    "name": "ipython",
    "version": 3
   },
   "file_extension": ".py",
   "mimetype": "text/x-python",
   "name": "python",
   "nbconvert_exporter": "python",
   "pygments_lexer": "ipython3",
   "version": "3.9.13"
  }
 },
 "nbformat": 4,
 "nbformat_minor": 5
}
